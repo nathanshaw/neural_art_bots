{
 "cells": [
  {
   "cell_type": "code",
   "execution_count": 9,
   "metadata": {},
   "outputs": [],
   "source": [
    "import tensorflow as tf\n",
    "from tensorflow import keras as keras\n",
    "# create a model that takes in an audio clip and transcribes what is said\n",
    "# create a model that takes in an audio clip and identifies if a question has been asked based\n",
    "# one a rise in pitch at the end of the sentence\n",
    "# create a model for identifying questions based on sentence wording\n",
    "import sklearn\n",
    "import pandas as pd\n",
    "import re\n",
    "from sklearn.svm import SVC\n",
    "from sklearn.naive_bayes import MultinomialNB\n",
    "from sklearn.model_selection import train_test_split\n",
    "from sklearn import preprocessing\n",
    "from sklearn.feature_extraction.text import TfidfVectorizer\n",
    "from sklearn.metrics import classification_report\n",
    "from sklearn.metrics import confusion_matrix"
   ]
  },
  {
   "cell_type": "code",
   "execution_count": 10,
   "metadata": {},
   "outputs": [],
   "source": [
    "\n",
    "\n",
    "class IsQuestionAdvanced():\n",
    "    \n",
    "    # Init constructor\n",
    "    # Input: Type of classification: 'MNB' - Multinomial Naive Bayes | 'SVM' - Support Vector Machine\n",
    "    def __init__(self, classification_type):\n",
    "        self.classification_type = classification_type\n",
    "        df = self.__get_data()\n",
    "        df = self.__clean_data(df)\n",
    "        df = self.__label_encode(df)\n",
    "        vectorizer_classifier = self.__create_classifier(df, self.classification_type)\n",
    "        if vectorizer_classifier is not None:\n",
    "            self.vectorizer = vectorizer_classifier['vectorizer']\n",
    "            self.classifier = vectorizer_classifier['classifier']        \n",
    "        \n",
    "    # Method (Private):  __clean_data\n",
    "    # Input: Raw input dataframe\n",
    "    # Processing: 1. Rename column \n",
    "    # 2. lowercase text\n",
    "    # 3. preserve alpha numeric characters, whitespace, apostrophe\n",
    "    # 4. filter dataframe with questiin types - what, who, when, affirmation, unknown\n",
    "    # Return: Processed filtered dataframe\n",
    "    def __clean_data(self, df):\n",
    "        df.rename(columns={0: 'text', 1: 'type'}, inplace=True)\n",
    "        df['type'] = df['type'].str.strip()\n",
    "        df['text'] = df['text'].apply(lambda x: x.lower())\n",
    "        df['text'] = df['text'].apply((lambda x: re.sub('[^a-zA-z0-9\\s\\']','',x)))\n",
    "        return df[(df['type'] == 'what') | (df['type'] == 'who') | (df['type'] == 'when') | (df['type'] == 'unknown') | (df['type'] == 'affirmation')]\n",
    "    \n",
    "    # Method (Private): __label_encode\n",
    "    # Input: Processed dataframe\n",
    "    # Processing: Use label encoding to convert text label to integer label and add it to a new column\n",
    "    # Return: Processed dataframe with label encoding column\n",
    "    def __label_encode(self, df):\n",
    "        self.le = preprocessing.LabelEncoder()\n",
    "        self.le.fit(df['type'])\n",
    "        df['label'] = list(self.le.transform(df['type']))\n",
    "        return df\n",
    "    \n",
    "    # Method (Private): __create_classifier\n",
    "    # Input: 1. Processed dataframe 2. Type of classification\n",
    "    # Processing: 1. Perform TFIDF Vectorization\n",
    "    # 2. Appy fit_tranform using TFIDF on text column\n",
    "    # 3. Split data into 70% training and 30% testing\n",
    "    # 4. Perform Multinomial Naive Bayes OR SVM classifcation based on input provided\n",
    "    # 5. Peform prediction for both classification techniques on test data\n",
    "    # 6. Show confusion matrix and accuracy\n",
    "    # Return: Dict - TFIDF Vetctorizer, Classifier    \n",
    "    def __create_classifier(self, df, classification_type):\n",
    "        v = TfidfVectorizer(analyzer='word',lowercase=True)\n",
    "        X = v.fit_transform(df['text'])\n",
    "        X_train, X_test, y_train, y_test = train_test_split(X, df['label'], test_size=0.30)\n",
    "        if classification_type == 'MNB':\n",
    "            clf = MultinomialNB()\n",
    "            clf.fit(X_train,y_train)\n",
    "            preds = clf.predict(X_test)\n",
    "            print(classification_report(preds,y_test))\n",
    "            print('Accuracy is: ', clf.score(X_test,y_test))\n",
    "            return {'vectorizer': v, 'classifier': clf}\n",
    "        elif classification_type == 'SVM':\n",
    "            clf_svm = SVC(kernel='linear')\n",
    "            clf_svm.fit(X_train,y_train)\n",
    "            preds = clf_svm.predict(X_test)\n",
    "            preds = print(classification_report(preds,y_test))\n",
    "            print('Accuracy is: ', clf_svm.score(X_test,y_test))\n",
    "            return {'vectorizer': v, 'classifier': clf_svm}\n",
    "        else:\n",
    "            print(\"Wrong classification type: \\n Type 'MNB' - Multinomial Naive Bayes \\n Type 'SVM' - Support Vector Machine\")    \n",
    "            \n",
    "\n",
    "    # Method (Private): __get_data\n",
    "    # Processing: Get the sample input data used to create traning, test, vectorizer, classifier data\n",
    "    # Return: Pandas dataframe\n",
    "    def __get_data(self):\n",
    "        return pd.read_csv('sample.txt', sep=',,,', header=None)\n",
    "    \n",
    "    # Method (Public): predict\n",
    "    # Input: An unknown new sentence\n",
    "    # Return: Prediction - Typpe of question 'what', 'when', 'who'\n",
    "    def predict(self, sentence):\n",
    "        ex = self.vectorizer.transform([sentence])\n",
    "        return list(self.le.inverse_transform(self.classifier.predict(ex)))[0]"
   ]
  },
  {
   "cell_type": "code",
   "execution_count": 11,
   "metadata": {},
   "outputs": [
    {
     "name": "stderr",
     "output_type": "stream",
     "text": [
      "/var/folders/pv/3fqvv1_j3t7_hz1_s8rg4dhw0000gn/T/ipykernel_27888/3768236884.py:74: ParserWarning: Falling back to the 'python' engine because the 'c' engine does not support regex separators (separators > 1 char and different from '\\s+' are interpreted as regex); you can avoid this warning by specifying engine='python'.\n",
      "  return pd.read_csv('sample.txt', sep=',,,', header=None)\n"
     ]
    },
    {
     "name": "stdout",
     "output_type": "stream",
     "text": [
      "              precision    recall  f1-score   support\n",
      "\n",
      "           0       0.81      1.00      0.89        21\n",
      "           1       0.92      0.92      0.92        76\n",
      "           2       0.98      0.97      0.98       195\n",
      "           3       0.93      0.86      0.89        29\n",
      "           4       1.00      0.98      0.99       124\n",
      "\n",
      "    accuracy                           0.96       445\n",
      "   macro avg       0.93      0.95      0.94       445\n",
      "weighted avg       0.96      0.96      0.96       445\n",
      "\n",
      "Accuracy is:  0.9617977528089887\n"
     ]
    }
   ],
   "source": [
    "obj = IsQuestionAdvanced('SVM')\n",
    "# Run on output of first method\n",
    "df_method1_out = pd.read_csv('output/method1_output.csv')\n",
    "df_method1_out = df_method1_out[df_method1_out['is_question'] == 1]\n",
    "df_method1_out['question_type'] = df_method1_out['QUERY'].apply(obj.predict)\n",
    "df_method1_out.to_csv('output/method3_output_1.csv', index=False)\n",
    "# Run on output of first method\n",
    "df_method2_out = pd.read_csv('output/method2_output.csv')\n",
    "del df_method2_out['question_type']\n",
    "df_method2_out = df_method2_out[df_method2_out['is_question'] == 1]\n",
    "df_method2_out['question_type'] = df_method2_out['QUERY'].apply(obj.predict)\n",
    "df_method2_out.to_csv('output/method3_output_2.csv', index=False)"
   ]
  },
  {
   "cell_type": "code",
   "execution_count": null,
   "metadata": {},
   "outputs": [],
   "source": [
    "# Audio to Text"
   ]
  }
 ],
 "metadata": {
  "kernelspec": {
   "display_name": "Python 3",
   "language": "python",
   "name": "python3"
  },
  "language_info": {
   "codemirror_mode": {
    "name": "ipython",
    "version": 3
   },
   "file_extension": ".py",
   "mimetype": "text/x-python",
   "name": "python",
   "nbconvert_exporter": "python",
   "pygments_lexer": "ipython3",
   "version": "3.10.9"
  },
  "orig_nbformat": 4
 },
 "nbformat": 4,
 "nbformat_minor": 2
}
