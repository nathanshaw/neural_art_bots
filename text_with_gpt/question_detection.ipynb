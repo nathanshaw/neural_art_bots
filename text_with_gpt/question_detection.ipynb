{
 "cells": [
  {
   "cell_type": "code",
   "execution_count": null,
   "metadata": {},
   "outputs": [],
   "source": [
    "import tensorflow as tf\n",
    "from tensorflow import keras as keras\n",
    "\n",
    "# create a model that takes in an audio clip and transcribes what is said\n",
    "\n",
    "# create a model that takes in an audio clip and identifies if a question has been asked based\n",
    "# one a rise in pitch at the end of the sentence\n",
    "\n",
    "# create a model for identifying questions based on sentence wording"
   ]
  }
 ],
 "metadata": {
  "language_info": {
   "name": "python"
  },
  "orig_nbformat": 4
 },
 "nbformat": 4,
 "nbformat_minor": 2
}
