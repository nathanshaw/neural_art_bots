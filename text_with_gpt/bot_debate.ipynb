{
 "cells": [
  {
   "attachments": {},
   "cell_type": "markdown",
   "metadata": {},
   "source": [
    "# Neural Art Bot Debate (notes and brainstorming)\n",
    "The purpose of this notebook is to provide notes and a platform for brainstorming \n",
    "implementation details for a art installation which involves:\n",
    "\n",
    "- Two neural art bot instances engaged in a debate on a variety of topics\n",
    "- TTS to playback the arguments posed by each bot\n",
    "- A display similar to CLI that shows the arguments for each bot in text format.\n",
    "- (optional) A third bot that serves as a judge to the debate which allocates points to each side based on the merrits of their arugments\n",
    "\n",
    "## Great, with these objectives in mind, lets start exploring our code options =)\n",
    "\n",
    "Lets start off by using ChatGPT to drive the program. Later on we will build and use our own model to avoid the API costs associated with GPT.\n",
    "\n",
    "While we might end up needing multiple instances of GPT, for now lets use multiple settings which are associated with the two bot instances"
   ]
  },
  {
   "cell_type": "code",
   "execution_count": 1,
   "metadata": {},
   "outputs": [
    {
     "name": "stderr",
     "output_type": "stream",
     "text": [
      "2023-04-15 13:52:59.666006: I tensorflow/core/platform/cpu_feature_guard.cc:182] This TensorFlow binary is optimized to use available CPU instructions in performance-critical operations.\n",
      "To enable the following instructions: AVX2 FMA, in other operations, rebuild TensorFlow with the appropriate compiler flags.\n",
      "/usr/local/lib/python3.10/site-packages/tensorflow_io/python/ops/__init__.py:98: UserWarning: unable to load libtensorflow_io_plugins.so: unable to open file: libtensorflow_io_plugins.so, from paths: ['/usr/local/lib/python3.10/site-packages/tensorflow_io/python/ops/libtensorflow_io_plugins.so']\n",
      "caused by: [\"dlopen(/usr/local/lib/python3.10/site-packages/tensorflow_io/python/ops/libtensorflow_io_plugins.so, 0x0006): symbol not found in flat namespace '__ZN3tsl6Status22MaybeAddSourceLocationENS_14SourceLocationE'\"]\n",
      "  warnings.warn(f\"unable to load libtensorflow_io_plugins.so: {e}\")\n",
      "/usr/local/lib/python3.10/site-packages/tensorflow_io/python/ops/__init__.py:104: UserWarning: file system plugins are not loaded: unable to open file: libtensorflow_io.so, from paths: ['/usr/local/lib/python3.10/site-packages/tensorflow_io/python/ops/libtensorflow_io.so']\n",
      "caused by: [\"dlopen(/usr/local/lib/python3.10/site-packages/tensorflow_io/python/ops/libtensorflow_io.so, 0x0006): symbol not found in flat namespace '__ZN10tensorflow11TensorProtoC1Ev'\"]\n",
      "  warnings.warn(f\"file system plugins are not loaded: {e}\")\n"
     ]
    }
   ],
   "source": [
    "# Import the nessisary libraries\n",
    "from tensorflow import keras\n",
    "import tensorflow as tf\n",
    "import openai\n",
    "import json\n",
    "import requests\n",
    "import os\n",
    "from random import shuffle, randint\n",
    "\n",
    "# make sure we have the OpenAi API key stored as a \n",
    "# environment variable\n",
    "assert os.environ.get('OPENAI_API_KEY') is not None, 'ERROR, your environment variable OPENAI_API_KEY is not set properly'\n",
    "\n",
    "# load the API key into our instance of the openai library\n",
    "# to make method calls simpler later on in the program\n",
    "openai.api_key = os.getenv('OPENAI_API_KEY')"
   ]
  },
  {
   "cell_type": "code",
   "execution_count": 2,
   "metadata": {},
   "outputs": [
    {
     "name": "stdout",
     "output_type": "stream",
     "text": [
      "------------------------------------------------------------\n",
      "Out first debater is Jack : who has the traits of ['articulate', 'liberal', 'passionate', 'logical']\n",
      "Out second debater is Jill : who has the traits of ['reserved', 'conservative', 'naive', 'inquisitive']\n",
      "Out Judge is Agustus : who has the traits of ['unbiased', 'neurotic', 'introverted', 'thoughtful']\n",
      "The topic of our debate is: What is the cutest animal?\n",
      "------------------------------------------------------------\n"
     ]
    }
   ],
   "source": [
    "# create an list to store the parameters \n",
    "# for our three personalities which take turns\n",
    "#  serving as the two debaters and the judge\n",
    "# TODO, consider generating the personality traits randomly using a master list of personality traits\n",
    "personality_params = [\n",
    "    {\n",
    "        'name' : 'Jack',\n",
    "        'gender' : \"Male\",\n",
    "        'traits': ['articulate', 'liberal', 'passionate', 'logical'],\n",
    "        'model': 'text-babbage-001',\n",
    "        'temperature' : 1.0\n",
    "    },\n",
    "    {\n",
    "        'name' : \"Jill\",\n",
    "        'gender' : 'Female',\n",
    "        'traits': ['reserved', 'conservative', 'naive', 'inquisitive'],\n",
    "        'model': 'text-babbage-001',\n",
    "        'temperature' : 0.8\n",
    "    },\n",
    "    {\n",
    "        'name' : \"Agustus\",\n",
    "        'gender' : 'Male',\n",
    "        'traits': ['unbiased', 'neurotic', 'introverted', 'thoughtful'],\n",
    "        'model': 'text-babbage-001',\n",
    "        'temperature' : 1.2\n",
    "    }\n",
    "]\n",
    "\n",
    "shuffle(personality_params)\n",
    "\n",
    "# randomly shuffle the order of our personality_parms indices\n",
    "# select one of the personality profiles at random for debater1\n",
    "debater1_params = personality_params[0]\n",
    "debater2_params = personality_params[1]\n",
    "judge_params = personality_params[2]\n",
    "# select one of the other profiles for debater 2\n",
    "\n",
    "# Create a list of possible debate topics\n",
    "topics = [\"What is the cutest animal?\", \n",
    "          \"Who was the greatest president?\",\n",
    "          \"What is the best way to cook a chicken dinner?\",\n",
    "          \"What is the meaning of life?\",\n",
    "          \"What is love?\",\n",
    "          \"What is the most magical place on earth?\"]\n",
    "\n",
    "topic = topics[randint(0, len(topics)-1)]\n",
    "\n",
    "print(\"-\"*60)\n",
    "print(\"Out first debater is {} : who has the traits of {}\".format(debater1_params['name'], debater1_params['traits']))\n",
    "print(\"Out second debater is {} : who has the traits of {}\".format(debater2_params['name'], debater2_params['traits']))\n",
    "print(\"Out Judge is {} : who has the traits of {}\".format(judge_params['name'], judge_params['traits']))\n",
    "print(\"The topic of our debate is: {}\".format(topic))\n",
    "print(\"-\"*60)"
   ]
  },
  {
   "attachments": {},
   "cell_type": "markdown",
   "metadata": {},
   "source": [
    "### Now that we have our two debaters, a judge, and a topic for debate, lets start the debate!"
   ]
  },
  {
   "cell_type": "code",
   "execution_count": 3,
   "metadata": {},
   "outputs": [],
   "source": [
    "def sendDebateRequest(debater_params, topic, initial_call=False):\n",
    "    max_tokens = 200\n",
    "    # Create a dictionary to store our headers\n",
    "    if initial_call is False:\n",
    "        topic = 'Lets assume that you have the personality traits of {} and that this argument is incorrect,\\n{}\\n Please provide a counter argument in the first person that is fewer than {} words'.format(\" \".join(debater_params['traits']), topic, max_tokens // 2)\n",
    "    else:\n",
    "        topic = \"Assuming you are taking the role of someone with these personality traits: {}. Lets have a debate about the following topic: {}, can you please respond in under {} words in the first person?\".format(\" \".join(debater_params['traits']), topic, max_tokens // 2 )\n",
    "    \n",
    "    headers = {\n",
    "        'Content-Type': 'application/json',\n",
    "        'Authorization': 'Bearer ' + os.environ.get('OPENAI_API_KEY')\n",
    "    }\n",
    "    # create the data dictionary for our API call\n",
    "    data = {\n",
    "        'model' : debater_params['model'],\n",
    "        'temperature' : debater_params['temperature'],\n",
    "        'n' : 1,\n",
    "        'max_tokens' : max_tokens,\n",
    "        'prompt' :  topic # TODO, what does the 'role' potion of this dict do?\n",
    "         # 'stop' : ';'\n",
    "    }\n",
    "    # print(\"Our data dict is as follows: \", data)\n",
    "    # print(\"Our header dict is as follows: {}\".format(headers))\n",
    "    # Pose the debate topic question to our first debater\n",
    "    print(\"{} is generating a response to the prompt of: {}\".format(debater_params['name'], topic))\n",
    "    response = requests.post('https://api.openai.com/v1/completions', headers=headers, json=data).json()\n",
    "    return response"
   ]
  },
  {
   "cell_type": "code",
   "execution_count": 4,
   "metadata": {},
   "outputs": [
    {
     "name": "stdout",
     "output_type": "stream",
     "text": [
      "Jack is generating a response to the prompt of: Assuming you are taking the role of someone with these personality traits: articulate liberal passionate logical. Lets have a debate about the following topic: What is the cutest animal?, can you please respond in under 100 words in the first person?\n",
      "The generated response is:  {'id': 'cmpl-75hBJfjF4pMXPnERKmMhwKMpEsaHk', 'object': 'text_completion', 'created': 1681591985, 'model': 'text-babbage-001', 'choices': [{'text': '\\n\\nI cannot answer this question, because I do not know what the cutest animal is.', 'index': 0, 'logprobs': None, 'finish_reason': 'stop'}], 'usage': {'prompt_tokens': 47, 'completion_tokens': 20, 'total_tokens': 67}}\n"
     ]
    }
   ],
   "source": [
    "responses = []\n",
    "responses.append(sendDebateRequest(debater1_params, topic, initial_call=True))\n",
    "print(\"The generated response is: \", responses[-1])\n",
    "prompt = responses[-1]['choices'][0]['text']"
   ]
  },
  {
   "attachments": {},
   "cell_type": "markdown",
   "metadata": {},
   "source": [
    "### Amazing, now that we have our first debater's statment, lets see what the counter argument is..."
   ]
  },
  {
   "cell_type": "code",
   "execution_count": 5,
   "metadata": {},
   "outputs": [
    {
     "name": "stdout",
     "output_type": "stream",
     "text": [
      "Jill is generating a response to the prompt of: Lets assume that you have the personality traits of reserved conservative naive inquisitive and that this argument is incorrect,\n",
      "What is the cutest animal?\n",
      " Please provide a counter argument in the first person that is fewer than 100 words\n",
      "The generated reply is:  .\n",
      "\n",
      "There is no cutest animal. Some animals are more cute than others and there is no universal answer.\n"
     ]
    }
   ],
   "source": [
    "responses.append(sendDebateRequest(debater2_params, topic))\n",
    "prompt = responses[-1]['choices'][0]['text']\n",
    "print(\"The generated reply is: \", prompt)"
   ]
  },
  {
   "attachments": {},
   "cell_type": "markdown",
   "metadata": {},
   "source": [
    "## Amazing, now lets bring in the judge to determine who is more correct\n"
   ]
  },
  {
   "cell_type": "code",
   "execution_count": 6,
   "metadata": {},
   "outputs": [],
   "source": [
    "\n",
    "def judgeArgument(debater1, debater2, judge, responses):\n",
    "    debater_names = [debater1['name'], debater2['name']]\n",
    "    max_tokens = 200\n",
    "    # Create a dictionary to store our headers\n",
    "    topic = 'I need you to judge which of two arguments are better according to the criteria of {}.\\n Here is the first agument {}.\\n Here is the second argument {}. Please respond with a single character consisting of either a \"1\" or \"2\".'.format(\" \".join(judge['traits']), responses[-2], responses[-1])\n",
    "\n",
    "    headers = {\n",
    "        'Content-Type': 'application/json',\n",
    "        'Authorization': 'Bearer ' + os.environ.get('OPENAI_API_KEY')\n",
    "    }\n",
    "    # create the data dictionary for our API call\n",
    "    data = {\n",
    "        'model' : judge['model'],\n",
    "        'temperature' : judge['temperature'],\n",
    "        'n' : 1,\n",
    "        'max_tokens' : max_tokens,\n",
    "        'prompt' :  topic # TODO, what does the 'role' potion of this dict do?\n",
    "         # 'stop' : ';'\n",
    "    }\n",
    "    # print(\"Our data dict is as follows: \", data)\n",
    "    # print(\"Our header dict is as follows: {}\".format(headers))\n",
    "    # Pose the debate topic question to our first debater\n",
    "    print(\"Our Judge {} is generating a response to the prompt of: {}\".format(judge['name'], topic))\n",
    "    response = requests.post('https://api.openai.com/v1/completions', headers=headers, json=data).json()\n",
    "    print(\"The judges response is: {}\".format(response['choices'][0]['text']))\n",
    "    return \"The judge {} has determined that {} wins the debate.\".format(judge['name'], debater_names[int(response['choices'][0]['text'])])"
   ]
  },
  {
   "cell_type": "code",
   "execution_count": 7,
   "metadata": {},
   "outputs": [
    {
     "name": "stdout",
     "output_type": "stream",
     "text": [
      "Our Judge Agustus is generating a response to the prompt of: I need you to judge which of two arguments are better according to the criteria of unbiased neurotic introverted thoughtful.\n",
      " Here is the first agument {'id': 'cmpl-75hBJfjF4pMXPnERKmMhwKMpEsaHk', 'object': 'text_completion', 'created': 1681591985, 'model': 'text-babbage-001', 'choices': [{'text': '\\n\\nI cannot answer this question, because I do not know what the cutest animal is.', 'index': 0, 'logprobs': None, 'finish_reason': 'stop'}], 'usage': {'prompt_tokens': 47, 'completion_tokens': 20, 'total_tokens': 67}}.\n",
      " Here is the second argument {'id': 'cmpl-75hBKMMedHzBNQltLeZUJhZpOkGcG', 'object': 'text_completion', 'created': 1681591986, 'model': 'text-babbage-001', 'choices': [{'text': '.\\n\\nThere is no cutest animal. Some animals are more cute than others and there is no universal answer.', 'index': 0, 'logprobs': None, 'finish_reason': None}], 'usage': {'prompt_tokens': 47, 'completion_tokens': 24, 'total_tokens': 71}}. Please respond with a single character consisting of either a \"1\" or \"2\".\n",
      "The judges response is: \n",
      "\n",
      "1\n",
      "The judge Agustus has determined that Jill wins the debate.\n"
     ]
    }
   ],
   "source": [
    "judgement = judgeArgument(debater1_params, debater2_params, judge_params, responses)\n",
    "print(judgement)"
   ]
  },
  {
   "cell_type": "markdown",
   "metadata": {},
   "source": [
    "## Amazing, that completes our initial investigations!\n",
    "Now lets create a function to run all the debate code together"
   ]
  },
  {
   "cell_type": "code",
   "execution_count": 8,
   "metadata": {},
   "outputs": [],
   "source": [
    "def runDebate(debater1, debater2, judge, prompt):\n",
    "    print(\"-\"*60)\n",
    "    print(\"Out first debater is {} : who has the traits of {}\".format(debater1_params['name'], debater1_params['traits']))\n",
    "    print(\"Out second debater is {} : who has the traits of {}\".format(debater2_params['name'], debater2_params['traits']))\n",
    "    print(\"Out Judge is {} : who has the traits of {}\".format(judge_params['name'], judge_params['traits']))\n",
    "    print(\"The topic of our debate is: {}\".format(topic))\n",
    "    print(\"-\"*60)\n",
    "    responses = []\n",
    "    responses.append(sendDebateRequest(debater1_params, prompt, initial_call=True))\n",
    "    print(\"The generated response is: \", responses[-1])\n",
    "    prompt = responses[-1]['choices'][0]['text']\n",
    "    responses.append(sendDebateRequest(debater2_params, prompt))\n",
    "    prompt = responses[-1]['choices'][0]['text']\n",
    "    print(\"The generated reply is: \", prompt)\n",
    "    judgeArgument(debater1, debater2, judge, responses)\n",
    "    "
   ]
  },
  {
   "cell_type": "code",
   "execution_count": 9,
   "metadata": {},
   "outputs": [
    {
     "name": "stdout",
     "output_type": "stream",
     "text": [
      "------------------------------------------------------------\n",
      "Out first debater is Jack : who has the traits of ['articulate', 'liberal', 'passionate', 'logical']\n",
      "Out second debater is Jill : who has the traits of ['reserved', 'conservative', 'naive', 'inquisitive']\n",
      "Out Judge is Agustus : who has the traits of ['unbiased', 'neurotic', 'introverted', 'thoughtful']\n",
      "The topic of our debate is: What is the cutest animal?\n",
      "------------------------------------------------------------\n",
      "Jack is generating a response to the prompt of: Assuming you are taking the role of someone with these personality traits: articulate liberal passionate logical. Lets have a debate about the following topic: What is love?, can you please respond in under 100 words in the first person?\n",
      "The generated response is:  {'id': 'cmpl-75hBL2kuh4qvjHtNUcoaRpgHRMiPt', 'object': 'text_completion', 'created': 1681591987, 'model': 'text-babbage-001', 'choices': [{'text': \"\\n\\nLove is a difficult concept to define. To many, it might be considered a sentimental feeling or emotion felt upon meeting someone new. To others, love could be seen as devoted affection or loyalty. Love is a complex emotion that can be analyzed and analyzed endlessly. To many, love is something that they can't have or experience. However, for others, love can be everything to them.\", 'index': 0, 'logprobs': None, 'finish_reason': None}], 'usage': {'prompt_tokens': 44, 'completion_tokens': 80, 'total_tokens': 124}}\n",
      "Jill is generating a response to the prompt of: Lets assume that you have the personality traits of reserved conservative naive inquisitive and that this argument is incorrect,\n",
      "\n",
      "\n",
      "Love is a difficult concept to define. To many, it might be considered a sentimental feeling or emotion felt upon meeting someone new. To others, love could be seen as devoted affection or loyalty. Love is a complex emotion that can be analyzed and analyzed endlessly. To many, love is something that they can't have or experience. However, for others, love can be everything to them.\n",
      " Please provide a counter argument in the first person that is fewer than 100 words\n",
      "The generated reply is:   long.\n",
      "\n",
      "To me, love is an emotion that I feel when I am with someone I care about. I feel like I can't get enough of them and I am so excited to spend my time with them. Love is something that I can't have or experience, but to me, it is everything.\n",
      "Our Judge Agustus is generating a response to the prompt of: I need you to judge which of two arguments are better according to the criteria of unbiased neurotic introverted thoughtful.\n",
      " Here is the first agument {'id': 'cmpl-75hBL2kuh4qvjHtNUcoaRpgHRMiPt', 'object': 'text_completion', 'created': 1681591987, 'model': 'text-babbage-001', 'choices': [{'text': \"\\n\\nLove is a difficult concept to define. To many, it might be considered a sentimental feeling or emotion felt upon meeting someone new. To others, love could be seen as devoted affection or loyalty. Love is a complex emotion that can be analyzed and analyzed endlessly. To many, love is something that they can't have or experience. However, for others, love can be everything to them.\", 'index': 0, 'logprobs': None, 'finish_reason': None}], 'usage': {'prompt_tokens': 44, 'completion_tokens': 80, 'total_tokens': 124}}.\n",
      " Here is the second argument {'id': 'cmpl-75hBM1gxOcov4zllEPyCbVwPa7GHC', 'object': 'text_completion', 'created': 1681591988, 'model': 'text-babbage-001', 'choices': [{'text': \" long.\\n\\nTo me, love is an emotion that I feel when I am with someone I care about. I feel like I can't get enough of them and I am so excited to spend my time with them. Love is something that I can't have or experience, but to me, it is everything.\", 'index': 0, 'logprobs': None, 'finish_reason': None}], 'usage': {'prompt_tokens': 119, 'completion_tokens': 64, 'total_tokens': 183}}. Please respond with a single character consisting of either a \"1\" or \"2\".\n",
      "The judges response is: \n",
      "\n",
      "1\n"
     ]
    }
   ],
   "source": [
    "prompt = topics[randint(0, len(topics) - 1)]\n",
    "runDebate(debater1_params, debater2_params, judge_params, prompt)"
   ]
  }
 ],
 "metadata": {
  "kernelspec": {
   "display_name": "Python 3",
   "language": "python",
   "name": "python3"
  },
  "language_info": {
   "codemirror_mode": {
    "name": "ipython",
    "version": 3
   },
   "file_extension": ".py",
   "mimetype": "text/x-python",
   "name": "python",
   "nbconvert_exporter": "python",
   "pygments_lexer": "ipython3",
   "version": "3.10.9"
  },
  "orig_nbformat": 4
 },
 "nbformat": 4,
 "nbformat_minor": 2
}
